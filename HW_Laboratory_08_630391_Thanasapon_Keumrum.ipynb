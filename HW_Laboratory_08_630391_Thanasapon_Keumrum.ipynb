{
 "cells": [
  {
   "cell_type": "code",
   "execution_count": null,
   "id": "7c37bb8b-9e7b-4393-b5a8-89085205194d",
   "metadata": {},
   "outputs": [],
   "source": [
    "# ข้อ 2 ไฟล์ Dectect คน"
   ]
  },
  {
   "cell_type": "code",
   "execution_count": 20,
   "id": "7d70cce2-a686-4a53-bd02-117d69cf1bf5",
   "metadata": {},
   "outputs": [],
   "source": [
    "import cv2\n",
    "\n",
    "hog = cv2.HOGDescriptor()\n",
    "hog.setSVMDetector(cv2.HOGDescriptor_getDefaultPeopleDetector())\n",
    "\n",
    "image = cv2.imread('C:\\\\Users\\\\LENOVO\\\\Desktop\\\\HCU\\HCU3_2\\\\Computer Vision\\\\camera_calibration\\\\koon_calibration\\\\left\\\\img46.png')\n",
    "\n",
    "image = cv2.resize(image, (640, 480))\n",
    "\n",
    "(rects, weights) = hog.detectMultiScale(image, winStride=(4, 4), padding=(8, 8), scale=1.05)\n",
    "\n",
    "for (x, y, w, h) in rects:\n",
    "    cv2.rectangle(image, (x, y), (x + w+30, y + h), (0, 255, 0), 2)\n",
    "\n",
    "cv2.imshow(\"People Detection\", image)\n",
    "cv2.waitKey(0)\n",
    "cv2.destroyAllWindows()"
   ]
  },
  {
   "cell_type": "code",
   "execution_count": null,
   "id": "00aacf42-9e1d-44af-8896-27b89fb2bdbc",
   "metadata": {},
   "outputs": [],
   "source": [
    "# ข้อ 3 ไฟล์ Dectect แมว"
   ]
  },
  {
   "cell_type": "code",
   "execution_count": 21,
   "id": "813c9397-223f-4a76-9355-3f97e303928e",
   "metadata": {},
   "outputs": [],
   "source": [
    "import cv2\n",
    "\n",
    "hog = cv2.HOGDescriptor()\n",
    "hog.setSVMDetector(cv2.HOGDescriptor_getDefaultPeopleDetector())\n",
    "\n",
    "image = cv2.imread('C:\\\\Users\\\\LENOVO\\\\Desktop\\\\HCU\\HCU3_2\\\\Computer Vision\\\\camera_calibration\\\\koon_calibration\\\\left\\\\img46.png')\n",
    "image = cv2.resize(image, (640, 480))\n",
    "\n",
    "(rects, weights) = hog.detectMultiScale(image, winStride=(4, 4), padding=(8, 8), scale=1.05)\n",
    "\n",
    "for (x, y, w, h) in rects:\n",
    "    cv2.rectangle(image, (x, y), (x + w, y + h), (0, 255, 0), 2)\n",
    "\n",
    "cv2.imshow(\"Cat Detection\", image)\n",
    "cv2.waitKey(0)\n",
    "cv2.destroyAllWindows()"
   ]
  },
  {
   "cell_type": "code",
   "execution_count": null,
   "id": "910cb576-57cb-412a-ac1e-a6a08110c033",
   "metadata": {},
   "outputs": [],
   "source": [
    "# แบบไม่เลื่อน"
   ]
  },
  {
   "cell_type": "code",
   "execution_count": 22,
   "id": "c28b5168-38df-484b-bc9d-a9ef948d609d",
   "metadata": {},
   "outputs": [],
   "source": [
    "import os\n",
    "import cv2\n",
    "\n",
    "# Load the pre-trained model for cat detection\n",
    "hog = cv2.HOGDescriptor()\n",
    "hog.setSVMDetector(cv2.HOGDescriptor_getDefaultPeopleDetector())\n",
    "\n",
    "# Path to the folder containing images\n",
    "folder_path = 'C:\\\\Users\\\\LENOVO\\\\Desktop\\\\HCU\\HCU3_2\\\\Computer Vision\\\\camera_calibration\\\\koon_calibration\\\\left\\\\'\n",
    "\n",
    "# Loop through all files in the folder\n",
    "for filename in os.listdir(folder_path):\n",
    "    # Check if the file is an image\n",
    "    if filename.endswith(\".jpg\") or filename.endswith(\".png\"):\n",
    "        # Read the image\n",
    "        image_path = os.path.join(folder_path, filename)\n",
    "        image = cv2.imread(image_path)\n",
    "        image = cv2.resize(image, (640, 480))\n",
    "\n",
    "        # Detect cats in the image\n",
    "        (rects, weights) = hog.detectMultiScale(image, winStride=(4, 4), padding=(8, 8), scale=1.05)\n",
    "\n",
    "        # Draw rectangles around the detected cats\n",
    "        for (x, y, w, h) in rects:\n",
    "            cv2.rectangle(image, (x, y), (x + w, y + h), (0, 255, 0), 2)\n",
    "\n",
    "        # Display the output\n",
    "        cv2.imshow(\"Cat Detection\", image)\n",
    "        cv2.waitKey(0)\n",
    "\n",
    "# Close all OpenCV windows\n",
    "cv2.destroyAllWindows()"
   ]
  },
  {
   "cell_type": "code",
   "execution_count": null,
   "id": "2394c560-2494-47b5-a527-fcbf93215cb1",
   "metadata": {},
   "outputs": [],
   "source": [
    "# แบบเลื่อน"
   ]
  },
  {
   "cell_type": "code",
   "execution_count": 15,
   "id": "78c089b2-4cf7-42b4-9110-33b05a3b78a8",
   "metadata": {},
   "outputs": [],
   "source": [
    "import os\n",
    "import cv2\n",
    "\n",
    "# Load the pre-trained model for cat detection\n",
    "hog = cv2.HOGDescriptor()\n",
    "hog.setSVMDetector(cv2.HOGDescriptor_getDefaultPeopleDetector())\n",
    "\n",
    "# Path to the folder containing images\n",
    "folder_path = 'C:\\\\Users\\\\thana\\\\OneDrive\\\\Desktop\\\\PictureDetect\\\\'\n",
    "\n",
    "# Loop through all files in the folder\n",
    "for filename in os.listdir(folder_path):\n",
    "    # Check if the file is an image\n",
    "    if filename.endswith(\".jpg\") or filename.endswith(\".png\"):\n",
    "        # Read the image\n",
    "        image_path = os.path.join(folder_path, filename)\n",
    "        image = cv2.imread(image_path)\n",
    "        image = cv2.resize(image, (640, 480))\n",
    "\n",
    "        # Detect cats in the image\n",
    "        (rects, weights) = hog.detectMultiScale(image, winStride=(4, 4), padding=(8, 8), scale=1.05)\n",
    "\n",
    "        # Draw rectangles around the detected cats\n",
    "        for (x, y, w, h) in rects:\n",
    "            cv2.rectangle(image, (x, y), (x + w, y + h), (0, 255, 0), 2)\n",
    "\n",
    "        # Display the output\n",
    "        cv2.imshow(\"Cat Detection\", image)\n",
    "        \n",
    "        # Wait for a short duration (100 milliseconds)\n",
    "        cv2.waitKey(100)\n",
    "\n",
    "# Close all OpenCV windows\n",
    "cv2.destroyAllWindows()"
   ]
  },
  {
   "cell_type": "code",
   "execution_count": 2,
   "id": "9984b02b-7f6a-43e9-8e40-51775879501f",
   "metadata": {},
   "outputs": [
    {
     "name": "stdout",
     "output_type": "stream",
     "text": [
      "Number of files in the folder: 220\n"
     ]
    }
   ],
   "source": [
    "import os\n",
    "\n",
    "folder_path = 'C:\\\\Users\\\\LENOVO\\\\Desktop\\\\HCU\\HCU3_2\\\\Computer Vision\\\\camera_calibration\\\\koon_calibration\\\\left\\\\'\n",
    "\n",
    "files = os.listdir(folder_path)\n",
    "num_files = len(files)\n",
    "print(\"Number of files in the folder:\", num_files)"
   ]
  },
  {
   "cell_type": "code",
   "execution_count": null,
   "id": "6eae3162-c3a4-4dc8-b717-9cf39dc8033a",
   "metadata": {},
   "outputs": [],
   "source": []
  }
 ],
 "metadata": {
  "kernelspec": {
   "display_name": "Python 3 (ipykernel)",
   "language": "python",
   "name": "python3"
  },
  "language_info": {
   "codemirror_mode": {
    "name": "ipython",
    "version": 3
   },
   "file_extension": ".py",
   "mimetype": "text/x-python",
   "name": "python",
   "nbconvert_exporter": "python",
   "pygments_lexer": "ipython3",
   "version": "3.8.10"
  }
 },
 "nbformat": 4,
 "nbformat_minor": 5
}
